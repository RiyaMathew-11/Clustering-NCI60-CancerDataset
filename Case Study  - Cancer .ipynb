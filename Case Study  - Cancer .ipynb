{
 "cells": [
  {
   "cell_type": "markdown",
   "metadata": {},
   "source": [
    "# Case Study - NCI60 Dataset"
   ]
  },
  {
   "cell_type": "code",
   "execution_count": 1,
   "metadata": {},
   "outputs": [],
   "source": [
    "import pandas as pd\n",
    "import numpy as np \n",
    "import matplotlib.pyplot as plt\n",
    "import seaborn as sns"
   ]
  },
  {
   "cell_type": "code",
   "execution_count": 2,
   "metadata": {},
   "outputs": [
    {
     "data": {
      "text/html": [
       "<div>\n",
       "<style scoped>\n",
       "    .dataframe tbody tr th:only-of-type {\n",
       "        vertical-align: middle;\n",
       "    }\n",
       "\n",
       "    .dataframe tbody tr th {\n",
       "        vertical-align: top;\n",
       "    }\n",
       "\n",
       "    .dataframe thead th {\n",
       "        text-align: right;\n",
       "    }\n",
       "</style>\n",
       "<table border=\"1\" class=\"dataframe\">\n",
       "  <thead>\n",
       "    <tr style=\"text-align: right;\">\n",
       "      <th></th>\n",
       "      <th>Unnamed: 0</th>\n",
       "      <th>1</th>\n",
       "      <th>2</th>\n",
       "      <th>3</th>\n",
       "      <th>4</th>\n",
       "      <th>5</th>\n",
       "      <th>6</th>\n",
       "      <th>7</th>\n",
       "      <th>8</th>\n",
       "      <th>9</th>\n",
       "      <th>...</th>\n",
       "      <th>6821</th>\n",
       "      <th>6822</th>\n",
       "      <th>6823</th>\n",
       "      <th>6824</th>\n",
       "      <th>6825</th>\n",
       "      <th>6826</th>\n",
       "      <th>6827</th>\n",
       "      <th>6828</th>\n",
       "      <th>6829</th>\n",
       "      <th>6830</th>\n",
       "    </tr>\n",
       "  </thead>\n",
       "  <tbody>\n",
       "    <tr>\n",
       "      <th>0</th>\n",
       "      <td>V1</td>\n",
       "      <td>0.300000</td>\n",
       "      <td>1.180000</td>\n",
       "      <td>0.550000</td>\n",
       "      <td>1.140000</td>\n",
       "      <td>-0.265000</td>\n",
       "      <td>-7.000000e-02</td>\n",
       "      <td>0.350000</td>\n",
       "      <td>-0.315000</td>\n",
       "      <td>-0.450000</td>\n",
       "      <td>...</td>\n",
       "      <td>-0.990019</td>\n",
       "      <td>0.000000</td>\n",
       "      <td>0.030000</td>\n",
       "      <td>-0.175000</td>\n",
       "      <td>0.629981</td>\n",
       "      <td>-0.030000</td>\n",
       "      <td>0.000000</td>\n",
       "      <td>0.280000</td>\n",
       "      <td>-0.340000</td>\n",
       "      <td>-1.930000</td>\n",
       "    </tr>\n",
       "    <tr>\n",
       "      <th>1</th>\n",
       "      <td>V2</td>\n",
       "      <td>0.679961</td>\n",
       "      <td>1.289961</td>\n",
       "      <td>0.169961</td>\n",
       "      <td>0.379961</td>\n",
       "      <td>0.464961</td>\n",
       "      <td>5.799610e-01</td>\n",
       "      <td>0.699961</td>\n",
       "      <td>0.724961</td>\n",
       "      <td>-0.040039</td>\n",
       "      <td>...</td>\n",
       "      <td>-0.270058</td>\n",
       "      <td>-0.300039</td>\n",
       "      <td>-0.250039</td>\n",
       "      <td>-0.535039</td>\n",
       "      <td>0.109941</td>\n",
       "      <td>-0.860039</td>\n",
       "      <td>-1.250049</td>\n",
       "      <td>-0.770039</td>\n",
       "      <td>-0.390039</td>\n",
       "      <td>-2.000039</td>\n",
       "    </tr>\n",
       "    <tr>\n",
       "      <th>2</th>\n",
       "      <td>V3</td>\n",
       "      <td>0.940000</td>\n",
       "      <td>-0.040000</td>\n",
       "      <td>-0.170000</td>\n",
       "      <td>-0.040000</td>\n",
       "      <td>-0.605000</td>\n",
       "      <td>0.000000e+00</td>\n",
       "      <td>0.090000</td>\n",
       "      <td>0.645000</td>\n",
       "      <td>0.430000</td>\n",
       "      <td>...</td>\n",
       "      <td>0.319981</td>\n",
       "      <td>0.120000</td>\n",
       "      <td>-0.740000</td>\n",
       "      <td>-0.595000</td>\n",
       "      <td>-0.270020</td>\n",
       "      <td>-0.150000</td>\n",
       "      <td>0.000000</td>\n",
       "      <td>-0.120000</td>\n",
       "      <td>-0.410000</td>\n",
       "      <td>0.000000</td>\n",
       "    </tr>\n",
       "    <tr>\n",
       "      <th>3</th>\n",
       "      <td>V4</td>\n",
       "      <td>0.280000</td>\n",
       "      <td>-0.310000</td>\n",
       "      <td>0.680000</td>\n",
       "      <td>-0.810000</td>\n",
       "      <td>0.625000</td>\n",
       "      <td>-1.387779e-17</td>\n",
       "      <td>0.170000</td>\n",
       "      <td>0.245000</td>\n",
       "      <td>0.020000</td>\n",
       "      <td>...</td>\n",
       "      <td>-1.240020</td>\n",
       "      <td>-0.110000</td>\n",
       "      <td>-0.160000</td>\n",
       "      <td>0.095000</td>\n",
       "      <td>-0.350020</td>\n",
       "      <td>-0.300000</td>\n",
       "      <td>-1.150010</td>\n",
       "      <td>1.090000</td>\n",
       "      <td>-0.260000</td>\n",
       "      <td>-1.100000</td>\n",
       "    </tr>\n",
       "    <tr>\n",
       "      <th>4</th>\n",
       "      <td>V5</td>\n",
       "      <td>0.485000</td>\n",
       "      <td>-0.465000</td>\n",
       "      <td>0.395000</td>\n",
       "      <td>0.905000</td>\n",
       "      <td>0.200000</td>\n",
       "      <td>-5.000000e-03</td>\n",
       "      <td>0.085000</td>\n",
       "      <td>0.110000</td>\n",
       "      <td>0.235000</td>\n",
       "      <td>...</td>\n",
       "      <td>0.554980</td>\n",
       "      <td>-0.775000</td>\n",
       "      <td>-0.515000</td>\n",
       "      <td>-0.320000</td>\n",
       "      <td>0.634980</td>\n",
       "      <td>0.605000</td>\n",
       "      <td>0.000000</td>\n",
       "      <td>0.745000</td>\n",
       "      <td>0.425000</td>\n",
       "      <td>0.145000</td>\n",
       "    </tr>\n",
       "    <tr>\n",
       "      <th>...</th>\n",
       "      <td>...</td>\n",
       "      <td>...</td>\n",
       "      <td>...</td>\n",
       "      <td>...</td>\n",
       "      <td>...</td>\n",
       "      <td>...</td>\n",
       "      <td>...</td>\n",
       "      <td>...</td>\n",
       "      <td>...</td>\n",
       "      <td>...</td>\n",
       "      <td>...</td>\n",
       "      <td>...</td>\n",
       "      <td>...</td>\n",
       "      <td>...</td>\n",
       "      <td>...</td>\n",
       "      <td>...</td>\n",
       "      <td>...</td>\n",
       "      <td>...</td>\n",
       "      <td>...</td>\n",
       "      <td>...</td>\n",
       "      <td>...</td>\n",
       "    </tr>\n",
       "    <tr>\n",
       "      <th>59</th>\n",
       "      <td>V60</td>\n",
       "      <td>-0.030000</td>\n",
       "      <td>-0.480000</td>\n",
       "      <td>0.070000</td>\n",
       "      <td>-0.700000</td>\n",
       "      <td>-0.195000</td>\n",
       "      <td>4.100000e-01</td>\n",
       "      <td>-0.240000</td>\n",
       "      <td>0.105000</td>\n",
       "      <td>-0.410000</td>\n",
       "      <td>...</td>\n",
       "      <td>-0.400020</td>\n",
       "      <td>0.150000</td>\n",
       "      <td>-0.430000</td>\n",
       "      <td>0.145000</td>\n",
       "      <td>-0.090020</td>\n",
       "      <td>-0.020000</td>\n",
       "      <td>-1.390010</td>\n",
       "      <td>-1.150000</td>\n",
       "      <td>0.290000</td>\n",
       "      <td>1.190000</td>\n",
       "    </tr>\n",
       "    <tr>\n",
       "      <th>60</th>\n",
       "      <td>V61</td>\n",
       "      <td>-0.270000</td>\n",
       "      <td>0.630000</td>\n",
       "      <td>-0.100000</td>\n",
       "      <td>1.100000</td>\n",
       "      <td>1.045000</td>\n",
       "      <td>8.000000e-02</td>\n",
       "      <td>-0.090000</td>\n",
       "      <td>-0.675000</td>\n",
       "      <td>-0.310000</td>\n",
       "      <td>...</td>\n",
       "      <td>-0.560020</td>\n",
       "      <td>0.200000</td>\n",
       "      <td>0.290000</td>\n",
       "      <td>-0.035000</td>\n",
       "      <td>0.279980</td>\n",
       "      <td>-0.160000</td>\n",
       "      <td>-0.020010</td>\n",
       "      <td>-0.640000</td>\n",
       "      <td>-0.370000</td>\n",
       "      <td>-0.430000</td>\n",
       "    </tr>\n",
       "    <tr>\n",
       "      <th>61</th>\n",
       "      <td>V62</td>\n",
       "      <td>0.210000</td>\n",
       "      <td>-0.620000</td>\n",
       "      <td>-0.150000</td>\n",
       "      <td>-1.330000</td>\n",
       "      <td>0.045000</td>\n",
       "      <td>-4.000000e-01</td>\n",
       "      <td>-0.390000</td>\n",
       "      <td>-0.675000</td>\n",
       "      <td>-0.360000</td>\n",
       "      <td>...</td>\n",
       "      <td>-0.160019</td>\n",
       "      <td>-0.120000</td>\n",
       "      <td>0.850000</td>\n",
       "      <td>-0.125000</td>\n",
       "      <td>0.779981</td>\n",
       "      <td>0.390000</td>\n",
       "      <td>0.000000</td>\n",
       "      <td>0.160000</td>\n",
       "      <td>2.030000</td>\n",
       "      <td>3.940000</td>\n",
       "    </tr>\n",
       "    <tr>\n",
       "      <th>62</th>\n",
       "      <td>V63</td>\n",
       "      <td>-0.050000</td>\n",
       "      <td>0.140000</td>\n",
       "      <td>-0.090000</td>\n",
       "      <td>-1.260000</td>\n",
       "      <td>0.045000</td>\n",
       "      <td>-2.710505e-20</td>\n",
       "      <td>0.420000</td>\n",
       "      <td>-0.305000</td>\n",
       "      <td>0.310000</td>\n",
       "      <td>...</td>\n",
       "      <td>0.889981</td>\n",
       "      <td>-0.420000</td>\n",
       "      <td>-0.460000</td>\n",
       "      <td>-0.855000</td>\n",
       "      <td>-0.160019</td>\n",
       "      <td>-0.350000</td>\n",
       "      <td>-0.360010</td>\n",
       "      <td>-0.490000</td>\n",
       "      <td>0.010000</td>\n",
       "      <td>-1.720000</td>\n",
       "    </tr>\n",
       "    <tr>\n",
       "      <th>63</th>\n",
       "      <td>V64</td>\n",
       "      <td>0.350000</td>\n",
       "      <td>-0.270000</td>\n",
       "      <td>0.020000</td>\n",
       "      <td>-1.230000</td>\n",
       "      <td>-0.715000</td>\n",
       "      <td>-3.400000e-01</td>\n",
       "      <td>-0.520000</td>\n",
       "      <td>0.475000</td>\n",
       "      <td>0.230000</td>\n",
       "      <td>...</td>\n",
       "      <td>1.629980</td>\n",
       "      <td>3.000000</td>\n",
       "      <td>2.860000</td>\n",
       "      <td>2.145000</td>\n",
       "      <td>0.869981</td>\n",
       "      <td>0.480000</td>\n",
       "      <td>0.969990</td>\n",
       "      <td>0.290000</td>\n",
       "      <td>-0.150000</td>\n",
       "      <td>1.210000</td>\n",
       "    </tr>\n",
       "  </tbody>\n",
       "</table>\n",
       "<p>64 rows × 6831 columns</p>\n",
       "</div>"
      ],
      "text/plain": [
       "   Unnamed: 0         1         2         3         4         5             6  \\\n",
       "0          V1  0.300000  1.180000  0.550000  1.140000 -0.265000 -7.000000e-02   \n",
       "1          V2  0.679961  1.289961  0.169961  0.379961  0.464961  5.799610e-01   \n",
       "2          V3  0.940000 -0.040000 -0.170000 -0.040000 -0.605000  0.000000e+00   \n",
       "3          V4  0.280000 -0.310000  0.680000 -0.810000  0.625000 -1.387779e-17   \n",
       "4          V5  0.485000 -0.465000  0.395000  0.905000  0.200000 -5.000000e-03   \n",
       "..        ...       ...       ...       ...       ...       ...           ...   \n",
       "59        V60 -0.030000 -0.480000  0.070000 -0.700000 -0.195000  4.100000e-01   \n",
       "60        V61 -0.270000  0.630000 -0.100000  1.100000  1.045000  8.000000e-02   \n",
       "61        V62  0.210000 -0.620000 -0.150000 -1.330000  0.045000 -4.000000e-01   \n",
       "62        V63 -0.050000  0.140000 -0.090000 -1.260000  0.045000 -2.710505e-20   \n",
       "63        V64  0.350000 -0.270000  0.020000 -1.230000 -0.715000 -3.400000e-01   \n",
       "\n",
       "           7         8         9  ...      6821      6822      6823      6824  \\\n",
       "0   0.350000 -0.315000 -0.450000  ... -0.990019  0.000000  0.030000 -0.175000   \n",
       "1   0.699961  0.724961 -0.040039  ... -0.270058 -0.300039 -0.250039 -0.535039   \n",
       "2   0.090000  0.645000  0.430000  ...  0.319981  0.120000 -0.740000 -0.595000   \n",
       "3   0.170000  0.245000  0.020000  ... -1.240020 -0.110000 -0.160000  0.095000   \n",
       "4   0.085000  0.110000  0.235000  ...  0.554980 -0.775000 -0.515000 -0.320000   \n",
       "..       ...       ...       ...  ...       ...       ...       ...       ...   \n",
       "59 -0.240000  0.105000 -0.410000  ... -0.400020  0.150000 -0.430000  0.145000   \n",
       "60 -0.090000 -0.675000 -0.310000  ... -0.560020  0.200000  0.290000 -0.035000   \n",
       "61 -0.390000 -0.675000 -0.360000  ... -0.160019 -0.120000  0.850000 -0.125000   \n",
       "62  0.420000 -0.305000  0.310000  ...  0.889981 -0.420000 -0.460000 -0.855000   \n",
       "63 -0.520000  0.475000  0.230000  ...  1.629980  3.000000  2.860000  2.145000   \n",
       "\n",
       "        6825      6826      6827      6828      6829      6830  \n",
       "0   0.629981 -0.030000  0.000000  0.280000 -0.340000 -1.930000  \n",
       "1   0.109941 -0.860039 -1.250049 -0.770039 -0.390039 -2.000039  \n",
       "2  -0.270020 -0.150000  0.000000 -0.120000 -0.410000  0.000000  \n",
       "3  -0.350020 -0.300000 -1.150010  1.090000 -0.260000 -1.100000  \n",
       "4   0.634980  0.605000  0.000000  0.745000  0.425000  0.145000  \n",
       "..       ...       ...       ...       ...       ...       ...  \n",
       "59 -0.090020 -0.020000 -1.390010 -1.150000  0.290000  1.190000  \n",
       "60  0.279980 -0.160000 -0.020010 -0.640000 -0.370000 -0.430000  \n",
       "61  0.779981  0.390000  0.000000  0.160000  2.030000  3.940000  \n",
       "62 -0.160019 -0.350000 -0.360010 -0.490000  0.010000 -1.720000  \n",
       "63  0.869981  0.480000  0.969990  0.290000 -0.150000  1.210000  \n",
       "\n",
       "[64 rows x 6831 columns]"
      ]
     },
     "execution_count": 2,
     "metadata": {},
     "output_type": "execute_result"
    }
   ],
   "source": [
    "pd.read_csv('NCI60.csv')"
   ]
  },
  {
   "cell_type": "code",
   "execution_count": 3,
   "metadata": {},
   "outputs": [],
   "source": [
    "data = pd.read_csv('NCI60.csv')"
   ]
  },
  {
   "cell_type": "code",
   "execution_count": 4,
   "metadata": {},
   "outputs": [
    {
     "data": {
      "text/html": [
       "<div>\n",
       "<style scoped>\n",
       "    .dataframe tbody tr th:only-of-type {\n",
       "        vertical-align: middle;\n",
       "    }\n",
       "\n",
       "    .dataframe tbody tr th {\n",
       "        vertical-align: top;\n",
       "    }\n",
       "\n",
       "    .dataframe thead th {\n",
       "        text-align: right;\n",
       "    }\n",
       "</style>\n",
       "<table border=\"1\" class=\"dataframe\">\n",
       "  <thead>\n",
       "    <tr style=\"text-align: right;\">\n",
       "      <th></th>\n",
       "      <th>Unnamed: 0</th>\n",
       "      <th>1</th>\n",
       "      <th>2</th>\n",
       "      <th>3</th>\n",
       "      <th>4</th>\n",
       "      <th>5</th>\n",
       "      <th>6</th>\n",
       "      <th>7</th>\n",
       "      <th>8</th>\n",
       "      <th>9</th>\n",
       "      <th>...</th>\n",
       "      <th>6821</th>\n",
       "      <th>6822</th>\n",
       "      <th>6823</th>\n",
       "      <th>6824</th>\n",
       "      <th>6825</th>\n",
       "      <th>6826</th>\n",
       "      <th>6827</th>\n",
       "      <th>6828</th>\n",
       "      <th>6829</th>\n",
       "      <th>6830</th>\n",
       "    </tr>\n",
       "  </thead>\n",
       "  <tbody>\n",
       "    <tr>\n",
       "      <th>0</th>\n",
       "      <td>V1</td>\n",
       "      <td>0.300000</td>\n",
       "      <td>1.180000</td>\n",
       "      <td>0.550000</td>\n",
       "      <td>1.140000</td>\n",
       "      <td>-0.265000</td>\n",
       "      <td>-7.000000e-02</td>\n",
       "      <td>0.350000</td>\n",
       "      <td>-0.315000</td>\n",
       "      <td>-0.450000</td>\n",
       "      <td>...</td>\n",
       "      <td>-0.990019</td>\n",
       "      <td>0.000000</td>\n",
       "      <td>0.030000</td>\n",
       "      <td>-0.175000</td>\n",
       "      <td>0.629981</td>\n",
       "      <td>-0.030000</td>\n",
       "      <td>0.000000</td>\n",
       "      <td>0.280000</td>\n",
       "      <td>-0.340000</td>\n",
       "      <td>-1.930000</td>\n",
       "    </tr>\n",
       "    <tr>\n",
       "      <th>1</th>\n",
       "      <td>V2</td>\n",
       "      <td>0.679961</td>\n",
       "      <td>1.289961</td>\n",
       "      <td>0.169961</td>\n",
       "      <td>0.379961</td>\n",
       "      <td>0.464961</td>\n",
       "      <td>5.799610e-01</td>\n",
       "      <td>0.699961</td>\n",
       "      <td>0.724961</td>\n",
       "      <td>-0.040039</td>\n",
       "      <td>...</td>\n",
       "      <td>-0.270058</td>\n",
       "      <td>-0.300039</td>\n",
       "      <td>-0.250039</td>\n",
       "      <td>-0.535039</td>\n",
       "      <td>0.109941</td>\n",
       "      <td>-0.860039</td>\n",
       "      <td>-1.250049</td>\n",
       "      <td>-0.770039</td>\n",
       "      <td>-0.390039</td>\n",
       "      <td>-2.000039</td>\n",
       "    </tr>\n",
       "    <tr>\n",
       "      <th>2</th>\n",
       "      <td>V3</td>\n",
       "      <td>0.940000</td>\n",
       "      <td>-0.040000</td>\n",
       "      <td>-0.170000</td>\n",
       "      <td>-0.040000</td>\n",
       "      <td>-0.605000</td>\n",
       "      <td>0.000000e+00</td>\n",
       "      <td>0.090000</td>\n",
       "      <td>0.645000</td>\n",
       "      <td>0.430000</td>\n",
       "      <td>...</td>\n",
       "      <td>0.319981</td>\n",
       "      <td>0.120000</td>\n",
       "      <td>-0.740000</td>\n",
       "      <td>-0.595000</td>\n",
       "      <td>-0.270020</td>\n",
       "      <td>-0.150000</td>\n",
       "      <td>0.000000</td>\n",
       "      <td>-0.120000</td>\n",
       "      <td>-0.410000</td>\n",
       "      <td>0.000000</td>\n",
       "    </tr>\n",
       "    <tr>\n",
       "      <th>3</th>\n",
       "      <td>V4</td>\n",
       "      <td>0.280000</td>\n",
       "      <td>-0.310000</td>\n",
       "      <td>0.680000</td>\n",
       "      <td>-0.810000</td>\n",
       "      <td>0.625000</td>\n",
       "      <td>-1.387779e-17</td>\n",
       "      <td>0.170000</td>\n",
       "      <td>0.245000</td>\n",
       "      <td>0.020000</td>\n",
       "      <td>...</td>\n",
       "      <td>-1.240020</td>\n",
       "      <td>-0.110000</td>\n",
       "      <td>-0.160000</td>\n",
       "      <td>0.095000</td>\n",
       "      <td>-0.350020</td>\n",
       "      <td>-0.300000</td>\n",
       "      <td>-1.150010</td>\n",
       "      <td>1.090000</td>\n",
       "      <td>-0.260000</td>\n",
       "      <td>-1.100000</td>\n",
       "    </tr>\n",
       "    <tr>\n",
       "      <th>4</th>\n",
       "      <td>V5</td>\n",
       "      <td>0.485000</td>\n",
       "      <td>-0.465000</td>\n",
       "      <td>0.395000</td>\n",
       "      <td>0.905000</td>\n",
       "      <td>0.200000</td>\n",
       "      <td>-5.000000e-03</td>\n",
       "      <td>0.085000</td>\n",
       "      <td>0.110000</td>\n",
       "      <td>0.235000</td>\n",
       "      <td>...</td>\n",
       "      <td>0.554980</td>\n",
       "      <td>-0.775000</td>\n",
       "      <td>-0.515000</td>\n",
       "      <td>-0.320000</td>\n",
       "      <td>0.634980</td>\n",
       "      <td>0.605000</td>\n",
       "      <td>0.000000</td>\n",
       "      <td>0.745000</td>\n",
       "      <td>0.425000</td>\n",
       "      <td>0.145000</td>\n",
       "    </tr>\n",
       "  </tbody>\n",
       "</table>\n",
       "<p>5 rows × 6831 columns</p>\n",
       "</div>"
      ],
      "text/plain": [
       "  Unnamed: 0         1         2         3         4         5             6  \\\n",
       "0         V1  0.300000  1.180000  0.550000  1.140000 -0.265000 -7.000000e-02   \n",
       "1         V2  0.679961  1.289961  0.169961  0.379961  0.464961  5.799610e-01   \n",
       "2         V3  0.940000 -0.040000 -0.170000 -0.040000 -0.605000  0.000000e+00   \n",
       "3         V4  0.280000 -0.310000  0.680000 -0.810000  0.625000 -1.387779e-17   \n",
       "4         V5  0.485000 -0.465000  0.395000  0.905000  0.200000 -5.000000e-03   \n",
       "\n",
       "          7         8         9  ...      6821      6822      6823      6824  \\\n",
       "0  0.350000 -0.315000 -0.450000  ... -0.990019  0.000000  0.030000 -0.175000   \n",
       "1  0.699961  0.724961 -0.040039  ... -0.270058 -0.300039 -0.250039 -0.535039   \n",
       "2  0.090000  0.645000  0.430000  ...  0.319981  0.120000 -0.740000 -0.595000   \n",
       "3  0.170000  0.245000  0.020000  ... -1.240020 -0.110000 -0.160000  0.095000   \n",
       "4  0.085000  0.110000  0.235000  ...  0.554980 -0.775000 -0.515000 -0.320000   \n",
       "\n",
       "       6825      6826      6827      6828      6829      6830  \n",
       "0  0.629981 -0.030000  0.000000  0.280000 -0.340000 -1.930000  \n",
       "1  0.109941 -0.860039 -1.250049 -0.770039 -0.390039 -2.000039  \n",
       "2 -0.270020 -0.150000  0.000000 -0.120000 -0.410000  0.000000  \n",
       "3 -0.350020 -0.300000 -1.150010  1.090000 -0.260000 -1.100000  \n",
       "4  0.634980  0.605000  0.000000  0.745000  0.425000  0.145000  \n",
       "\n",
       "[5 rows x 6831 columns]"
      ]
     },
     "execution_count": 4,
     "metadata": {},
     "output_type": "execute_result"
    }
   ],
   "source": [
    "data.head()"
   ]
  },
  {
   "cell_type": "code",
   "execution_count": 11,
   "metadata": {},
   "outputs": [],
   "source": [
    "data1 = data.drop([\"Unnamed: 0\"],axis = 1)"
   ]
  },
  {
   "cell_type": "code",
   "execution_count": 15,
   "metadata": {},
   "outputs": [
    {
     "data": {
      "text/plain": [
       "(64, 6830)"
      ]
     },
     "execution_count": 15,
     "metadata": {},
     "output_type": "execute_result"
    }
   ],
   "source": [
    "data1.shape"
   ]
  },
  {
   "cell_type": "code",
   "execution_count": 18,
   "metadata": {},
   "outputs": [
    {
     "data": {
      "text/plain": [
       "1      0\n",
       "2      0\n",
       "3      0\n",
       "4      0\n",
       "5      0\n",
       "      ..\n",
       "96     0\n",
       "97     0\n",
       "98     0\n",
       "99     0\n",
       "100    0\n",
       "Length: 100, dtype: int64"
      ]
     },
     "execution_count": 18,
     "metadata": {},
     "output_type": "execute_result"
    }
   ],
   "source": [
    "data1.isna().sum()"
   ]
  },
  {
   "cell_type": "markdown",
   "metadata": {},
   "source": [
    "# Elbow Method"
   ]
  },
  {
   "cell_type": "markdown",
   "metadata": {},
   "source": [
    "Since its a huge dataset, implemenof correlation matrix is"
   ]
  },
  {
   "cell_type": "code",
   "execution_count": 21,
   "metadata": {},
   "outputs": [
    {
     "data": {
      "image/png": "[encoded data removed]",
      "text/plain": [
       "<Figure size 432x288 with 1 Axes>"
      ]
     },
     "metadata": {
      "needs_background": "light"
     },
     "output_type": "display_data"
    }
   ],
   "source": [
    "from sklearn.cluster import KMeans\n",
    "wcss = [] #within cluster sum of squares\n",
    "for i in range(1,15):\n",
    "    kmeans = KMeans(n_clusters = i,init = 'k-means++',random_state = 42)\n",
    "    kmeans.fit(data1)\n",
    "    wcss.append(kmeans.inertia_)\n",
    "plt.plot(range(1,15), wcss, color = 'darkgreen')\n",
    "plt.title('The Elbow Method',fontsize = 16)\n",
    "plt.xlabel('Number of Clusters',fontsize = 12)\n",
    "plt.ylabel('WCSS',fontsize = 12)\n",
    "plt.show()"
   ]
  },
  {
   "cell_type": "code",
   "execution_count": 22,
   "metadata": {},
   "outputs": [],
   "source": [
    "kmeans = KMeans(n_clusters = 9,init = 'k-means++',random_state = 42)\n",
    "y_kmeans = kmeans.fit_predict(data1)"
   ]
  },
  {
   "cell_type": "code",
   "execution_count": 39,
   "metadata": {},
   "outputs": [],
   "source": [
    "y_kmeans1 = pd.DataFrame(y_kmeans).head(50)"
   ]
  },
  {
   "cell_type": "code",
   "execution_count": 42,
   "metadata": {},
   "outputs": [
    {
     "data": {
      "text/plain": [
       "4    17\n",
       "1     9\n",
       "7     8\n",
       "0     6\n",
       "8     5\n",
       "2     3\n",
       "6     2\n",
       "Name: 0, dtype: int64"
      ]
     },
     "execution_count": 42,
     "metadata": {},
     "output_type": "execute_result"
    }
   ],
   "source": [
    "y_kmeans1[0].value_counts()"
   ]
  },
  {
   "cell_type": "markdown",
   "metadata": {},
   "source": [
    "Data points clustered into 9 clusters"
   ]
  },
  {
   "cell_type": "markdown",
   "metadata": {},
   "source": [
    "# Agglomerative Hierarchical Clustering"
   ]
  },
  {
   "cell_type": "code",
   "execution_count": 48,
   "metadata": {},
   "outputs": [],
   "source": [
    "from sklearn.cluster import AgglomerativeClustering\n",
    "hc = AgglomerativeClustering(n_clusters = 9, affinity = 'euclidean',linkage = 'ward')\n",
    "y_hc = hc.fit_predict(data1)"
   ]
  },
  {
   "cell_type": "code",
   "execution_count": 51,
   "metadata": {},
   "outputs": [],
   "source": [
    "from sklearn.decomposition import PCA #Principal Component Analysis"
   ]
  },
  {
   "cell_type": "code",
   "execution_count": 53,
   "metadata": {},
   "outputs": [],
   "source": [
    "pca_model = PCA(n_components = 25, random_state = 42)"
   ]
  },
  {
   "cell_type": "code",
   "execution_count": 54,
   "metadata": {},
   "outputs": [
    {
     "data": {
      "text/plain": [
       "PCA(n_components=25, random_state=42)"
      ]
     },
     "execution_count": 54,
     "metadata": {},
     "output_type": "execute_result"
    }
   ],
   "source": [
    "pca_model.fit(data1)"
   ]
  },
  {
   "cell_type": "code",
   "execution_count": 56,
   "metadata": {},
   "outputs": [],
   "source": [
    "pca_data = pca_model.transform(data1)"
   ]
  },
  {
   "cell_type": "code",
   "execution_count": 58,
   "metadata": {},
   "outputs": [
    {
     "data": {
      "text/plain": [
       "(64, 25)"
      ]
     },
     "execution_count": 58,
     "metadata": {},
     "output_type": "execute_result"
    }
   ],
   "source": [
    "pca_data.shape"
   ]
  },
  {
   "cell_type": "code",
   "execution_count": 59,
   "metadata": {},
   "outputs": [],
   "source": [
    "pca_data = pd.DataFrame(pca_data)"
   ]
  },
  {
   "cell_type": "code",
   "execution_count": 61,
   "metadata": {},
   "outputs": [
    {
     "data": {
      "text/html": [
       "<div>\n",
       "<style scoped>\n",
       "    .dataframe tbody tr th:only-of-type {\n",
       "        vertical-align: middle;\n",
       "    }\n",
       "\n",
       "    .dataframe tbody tr th {\n",
       "        vertical-align: top;\n",
       "    }\n",
       "\n",
       "    .dataframe thead th {\n",
       "        text-align: right;\n",
       "    }\n",
       "</style>\n",
       "<table border=\"1\" class=\"dataframe\">\n",
       "  <thead>\n",
       "    <tr style=\"text-align: right;\">\n",
       "      <th></th>\n",
       "      <th>0</th>\n",
       "      <th>1</th>\n",
       "      <th>2</th>\n",
       "      <th>3</th>\n",
       "      <th>4</th>\n",
       "      <th>5</th>\n",
       "      <th>6</th>\n",
       "      <th>7</th>\n",
       "      <th>8</th>\n",
       "      <th>9</th>\n",
       "      <th>...</th>\n",
       "      <th>15</th>\n",
       "      <th>16</th>\n",
       "      <th>17</th>\n",
       "      <th>18</th>\n",
       "      <th>19</th>\n",
       "      <th>20</th>\n",
       "      <th>21</th>\n",
       "      <th>22</th>\n",
       "      <th>23</th>\n",
       "      <th>24</th>\n",
       "    </tr>\n",
       "  </thead>\n",
       "  <tbody>\n",
       "    <tr>\n",
       "      <th>0</th>\n",
       "      <td>-19.795782</td>\n",
       "      <td>-0.115265</td>\n",
       "      <td>5.968441</td>\n",
       "      <td>4.750693</td>\n",
       "      <td>4.880177</td>\n",
       "      <td>18.928013</td>\n",
       "      <td>-13.222072</td>\n",
       "      <td>18.047816</td>\n",
       "      <td>-18.576047</td>\n",
       "      <td>-7.262833</td>\n",
       "      <td>...</td>\n",
       "      <td>14.443812</td>\n",
       "      <td>-5.626943</td>\n",
       "      <td>6.817944</td>\n",
       "      <td>2.222362</td>\n",
       "      <td>-4.961966</td>\n",
       "      <td>5.333694</td>\n",
       "      <td>-4.452793</td>\n",
       "      <td>-0.876742</td>\n",
       "      <td>2.688485</td>\n",
       "      <td>6.077093</td>\n",
       "    </tr>\n",
       "    <tr>\n",
       "      <th>1</th>\n",
       "      <td>-21.546095</td>\n",
       "      <td>1.457518</td>\n",
       "      <td>9.018970</td>\n",
       "      <td>6.768334</td>\n",
       "      <td>2.247662</td>\n",
       "      <td>17.063031</td>\n",
       "      <td>-13.005371</td>\n",
       "      <td>21.324223</td>\n",
       "      <td>-22.078283</td>\n",
       "      <td>-15.267593</td>\n",
       "      <td>...</td>\n",
       "      <td>18.172460</td>\n",
       "      <td>-2.173459</td>\n",
       "      <td>2.539052</td>\n",
       "      <td>0.034838</td>\n",
       "      <td>-0.289083</td>\n",
       "      <td>3.632280</td>\n",
       "      <td>2.197786</td>\n",
       "      <td>2.783664</td>\n",
       "      <td>-0.668421</td>\n",
       "      <td>7.295791</td>\n",
       "    </tr>\n",
       "    <tr>\n",
       "      <th>2</th>\n",
       "      <td>-25.056612</td>\n",
       "      <td>-1.525826</td>\n",
       "      <td>6.960331</td>\n",
       "      <td>2.793009</td>\n",
       "      <td>10.819113</td>\n",
       "      <td>16.451772</td>\n",
       "      <td>-5.260473</td>\n",
       "      <td>1.406400</td>\n",
       "      <td>-5.705806</td>\n",
       "      <td>0.351640</td>\n",
       "      <td>...</td>\n",
       "      <td>-1.001037</td>\n",
       "      <td>-2.714597</td>\n",
       "      <td>4.174405</td>\n",
       "      <td>-2.915389</td>\n",
       "      <td>3.476316</td>\n",
       "      <td>-4.525488</td>\n",
       "      <td>6.841145</td>\n",
       "      <td>-9.409534</td>\n",
       "      <td>-0.140806</td>\n",
       "      <td>2.439740</td>\n",
       "    </tr>\n",
       "    <tr>\n",
       "      <th>3</th>\n",
       "      <td>-37.409540</td>\n",
       "      <td>11.389449</td>\n",
       "      <td>5.408318</td>\n",
       "      <td>15.442297</td>\n",
       "      <td>16.013715</td>\n",
       "      <td>33.112507</td>\n",
       "      <td>-4.568597</td>\n",
       "      <td>0.861089</td>\n",
       "      <td>4.889008</td>\n",
       "      <td>-3.781773</td>\n",
       "      <td>...</td>\n",
       "      <td>-6.040665</td>\n",
       "      <td>8.100602</td>\n",
       "      <td>5.774876</td>\n",
       "      <td>-0.375631</td>\n",
       "      <td>-10.115111</td>\n",
       "      <td>-10.068475</td>\n",
       "      <td>-5.144929</td>\n",
       "      <td>19.378661</td>\n",
       "      <td>0.674813</td>\n",
       "      <td>-11.410056</td>\n",
       "    </tr>\n",
       "    <tr>\n",
       "      <th>4</th>\n",
       "      <td>-50.218614</td>\n",
       "      <td>1.346505</td>\n",
       "      <td>17.598949</td>\n",
       "      <td>15.104596</td>\n",
       "      <td>13.851405</td>\n",
       "      <td>16.918393</td>\n",
       "      <td>-11.484076</td>\n",
       "      <td>-22.147184</td>\n",
       "      <td>19.007723</td>\n",
       "      <td>7.618730</td>\n",
       "      <td>...</td>\n",
       "      <td>-15.408470</td>\n",
       "      <td>-5.553198</td>\n",
       "      <td>1.373633</td>\n",
       "      <td>7.412705</td>\n",
       "      <td>14.569445</td>\n",
       "      <td>6.780634</td>\n",
       "      <td>2.644649</td>\n",
       "      <td>0.802923</td>\n",
       "      <td>10.838139</td>\n",
       "      <td>-9.765451</td>\n",
       "    </tr>\n",
       "  </tbody>\n",
       "</table>\n",
       "<p>5 rows × 25 columns</p>\n",
       "</div>"
      ],
      "text/plain": [
       "          0          1          2          3          4          5   \\\n",
       "0 -19.795782  -0.115265   5.968441   4.750693   4.880177  18.928013   \n",
       "1 -21.546095   1.457518   9.018970   6.768334   2.247662  17.063031   \n",
       "2 -25.056612  -1.525826   6.960331   2.793009  10.819113  16.451772   \n",
       "3 -37.409540  11.389449   5.408318  15.442297  16.013715  33.112507   \n",
       "4 -50.218614   1.346505  17.598949  15.104596  13.851405  16.918393   \n",
       "\n",
       "          6          7          8          9   ...         15        16  \\\n",
       "0 -13.222072  18.047816 -18.576047  -7.262833  ...  14.443812 -5.626943   \n",
       "1 -13.005371  21.324223 -22.078283 -15.267593  ...  18.172460 -2.173459   \n",
       "2  -5.260473   1.406400  -5.705806   0.351640  ...  -1.001037 -2.714597   \n",
       "3  -4.568597   0.861089   4.889008  -3.781773  ...  -6.040665  8.100602   \n",
       "4 -11.484076 -22.147184  19.007723   7.618730  ... -15.408470 -5.553198   \n",
       "\n",
       "         17        18         19         20        21         22         23  \\\n",
       "0  6.817944  2.222362  -4.961966   5.333694 -4.452793  -0.876742   2.688485   \n",
       "1  2.539052  0.034838  -0.289083   3.632280  2.197786   2.783664  -0.668421   \n",
       "2  4.174405 -2.915389   3.476316  -4.525488  6.841145  -9.409534  -0.140806   \n",
       "3  5.774876 -0.375631 -10.115111 -10.068475 -5.144929  19.378661   0.674813   \n",
       "4  1.373633  7.412705  14.569445   6.780634  2.644649   0.802923  10.838139   \n",
       "\n",
       "          24  \n",
       "0   6.077093  \n",
       "1   7.295791  \n",
       "2   2.439740  \n",
       "3 -11.410056  \n",
       "4  -9.765451  \n",
       "\n",
       "[5 rows x 25 columns]"
      ]
     },
     "execution_count": 61,
     "metadata": {},
     "output_type": "execute_result"
    }
   ],
   "source": [
    "pca_data.head()"
   ]
  },
  {
   "cell_type": "code",
   "execution_count": 62,
   "metadata": {},
   "outputs": [
    {
     "data": {
      "text/plain": [
       "0.7500575042112886"
      ]
     },
     "execution_count": 62,
     "metadata": {},
     "output_type": "execute_result"
    }
   ],
   "source": [
    "# percentage of data present in principal components\n",
    "pca_model.explained_variance_ratio_[:25].sum()"
   ]
  },
  {
   "cell_type": "code",
   "execution_count": 67,
   "metadata": {},
   "outputs": [
    {
     "data": {
      "image/png": "[encoded data removed]",
      "text/plain": [
       "<Figure size 432x288 with 1 Axes>"
      ]
     },
     "metadata": {
      "needs_background": "light"
     },
     "output_type": "display_data"
    }
   ],
   "source": [
    "from sklearn.cluster import KMeans\n",
    "wcss = [] #within cluster sum of squares\n",
    "for i in range(1,15):\n",
    "    kmeans = KMeans(n_clusters = i,init = 'k-means++',random_state = 42)\n",
    "    kmeans.fit(pca_data)\n",
    "    wcss.append(kmeans.inertia_)\n",
    "plt.plot(range(1,15), wcss, color = 'darkgreen')\n",
    "plt.title('The Elbow Method',fontsize = 16)\n",
    "plt.xlabel('Number of Clusters',fontsize = 12)\n",
    "plt.ylabel('WCSS',fontsize = 12)\n",
    "plt.show()"
   ]
  },
  {
   "cell_type": "code",
   "execution_count": 66,
   "metadata": {},
   "outputs": [
    {
     "data": {
      "text/plain": [
       "array([5, 5, 5, 2, 2, 2, 2, 2, 5, 5, 5, 2, 5, 5, 5, 5, 5, 5, 5, 5, 5, 5,\n",
       "       5, 5, 5, 5, 5, 5, 5, 5, 5, 5, 5, 4, 1, 1, 1, 6, 6, 6, 5, 5, 3, 3,\n",
       "       3, 3, 3, 3, 4, 4, 4, 4, 5, 5, 5, 0, 0, 0, 0, 0, 0, 0, 0, 0],\n",
       "      dtype=int32)"
      ]
     },
     "execution_count": 66,
     "metadata": {},
     "output_type": "execute_result"
    }
   ],
   "source": [
    "# Optimum number of clusters  = 7\n",
    "kmeans = KMeans(n_clusters = 7,init = 'k-means++',random_state = 42)\n",
    "y_kmeans = kmeans.fit_predict(data1)\n",
    "y_kmeans"
   ]
  },
  {
   "cell_type": "code",
   "execution_count": 72,
   "metadata": {},
   "outputs": [
    {
     "data": {
      "image/png": "[encoded data removed]",
      "text/plain": [
       "<Figure size 720x720 with 1 Axes>"
      ]
     },
     "metadata": {
      "needs_background": "light"
     },
     "output_type": "display_data"
    }
   ],
   "source": [
    "# Dendrogram\n",
    "\n",
    "import scipy.cluster.hierarchy as sch\n",
    "plt.figure(figsize = (10,10))\n",
    "dendrogram = sch.dendrogram(sch.linkage(pca_data, method = 'ward'))\n",
    "plt.title('Dendrogram',fontsize = 16)\n",
    "plt.xlabel('Patients',fontsize =12)\n",
    "plt.ylabel('Euclidean Distances',fontsize =12)\n",
    "plt.show()"
   ]
  },
  {
   "cell_type": "markdown",
   "metadata": {},
   "source": [
    "From dendrogram, optimum number of clusters can be inferred as 4"
   ]
  },
  {
   "cell_type": "code",
   "execution_count": 73,
   "metadata": {},
   "outputs": [],
   "source": [
    "from sklearn.cluster import AgglomerativeClustering\n",
    "hc = AgglomerativeClustering(n_clusters = 4, affinity = 'euclidean',linkage = 'ward')\n",
    "y_hc = hc.fit_predict(data1)"
   ]
  },
  {
   "cell_type": "code",
   "execution_count": 77,
   "metadata": {},
   "outputs": [
    {
     "data": {
      "text/plain": [
       "array([3, 3, 3, 3, 3, 3, 3, 3, 3, 3, 3, 3, 3, 3, 3, 3, 3, 3, 3, 3, 3, 3,\n",
       "       3, 0, 0, 0, 0, 0, 0, 0, 0, 0, 0, 1, 1, 1, 1, 1, 1, 1, 1, 0, 0, 0,\n",
       "       0, 0, 0, 0, 0, 0, 0, 0, 0, 0, 0, 2, 2, 2, 2, 2, 2, 2, 2, 2])"
      ]
     },
     "execution_count": 77,
     "metadata": {},
     "output_type": "execute_result"
    }
   ],
   "source": [
    "y_hc"
   ]
  },
  {
   "cell_type": "code",
   "execution_count": 74,
   "metadata": {},
   "outputs": [
    {
     "data": {
      "text/plain": [
       "(64, 1)"
      ]
     },
     "execution_count": 74,
     "metadata": {},
     "output_type": "execute_result"
    }
   ],
   "source": [
    "y_hcfinal = pd.DataFrame(y_hc)\n",
    "y_hcfinal.shape"
   ]
  },
  {
   "cell_type": "code",
   "execution_count": 76,
   "metadata": {},
   "outputs": [
    {
     "data": {
      "text/html": [
       "<div>\n",
       "<style scoped>\n",
       "    .dataframe tbody tr th:only-of-type {\n",
       "        vertical-align: middle;\n",
       "    }\n",
       "\n",
       "    .dataframe tbody tr th {\n",
       "        vertical-align: top;\n",
       "    }\n",
       "\n",
       "    .dataframe thead th {\n",
       "        text-align: right;\n",
       "    }\n",
       "</style>\n",
       "<table border=\"1\" class=\"dataframe\">\n",
       "  <thead>\n",
       "    <tr style=\"text-align: right;\">\n",
       "      <th></th>\n",
       "      <th>0</th>\n",
       "    </tr>\n",
       "  </thead>\n",
       "  <tbody>\n",
       "    <tr>\n",
       "      <th>0</th>\n",
       "      <td>3</td>\n",
       "    </tr>\n",
       "    <tr>\n",
       "      <th>1</th>\n",
       "      <td>3</td>\n",
       "    </tr>\n",
       "    <tr>\n",
       "      <th>2</th>\n",
       "      <td>3</td>\n",
       "    </tr>\n",
       "    <tr>\n",
       "      <th>3</th>\n",
       "      <td>3</td>\n",
       "    </tr>\n",
       "    <tr>\n",
       "      <th>4</th>\n",
       "      <td>3</td>\n",
       "    </tr>\n",
       "    <tr>\n",
       "      <th>...</th>\n",
       "      <td>...</td>\n",
       "    </tr>\n",
       "    <tr>\n",
       "      <th>59</th>\n",
       "      <td>2</td>\n",
       "    </tr>\n",
       "    <tr>\n",
       "      <th>60</th>\n",
       "      <td>2</td>\n",
       "    </tr>\n",
       "    <tr>\n",
       "      <th>61</th>\n",
       "      <td>2</td>\n",
       "    </tr>\n",
       "    <tr>\n",
       "      <th>62</th>\n",
       "      <td>2</td>\n",
       "    </tr>\n",
       "    <tr>\n",
       "      <th>63</th>\n",
       "      <td>2</td>\n",
       "    </tr>\n",
       "  </tbody>\n",
       "</table>\n",
       "<p>64 rows × 1 columns</p>\n",
       "</div>"
      ],
      "text/plain": [
       "    0\n",
       "0   3\n",
       "1   3\n",
       "2   3\n",
       "3   3\n",
       "4   3\n",
       ".. ..\n",
       "59  2\n",
       "60  2\n",
       "61  2\n",
       "62  2\n",
       "63  2\n",
       "\n",
       "[64 rows x 1 columns]"
      ]
     },
     "execution_count": 76,
     "metadata": {},
     "output_type": "execute_result"
    }
   ],
   "source": [
    "y_hcfinal"
   ]
  },
  {
   "cell_type": "code",
   "execution_count": 75,
   "metadata": {},
   "outputs": [
    {
     "data": {
      "text/plain": [
       "0    24\n",
       "3    23\n",
       "2     9\n",
       "1     8\n",
       "Name: 0, dtype: int64"
      ]
     },
     "execution_count": 75,
     "metadata": {},
     "output_type": "execute_result"
    }
   ],
   "source": [
    "y_hcfinal[0].value_counts()"
   ]
  },
  {
   "cell_type": "markdown",
   "metadata": {},
   "source": [
    "While dealing with datasets with more than 1000 columns, Agglomerative clustering is more efficient than KMeans.\n"
   ]
  },
  {
   "cell_type": "code",
   "execution_count": null,
   "metadata": {},
   "outputs": [],
   "source": []
  }
 ],
 "metadata": {
  "kernelspec": {
   "display_name": "Python 3",
   "language": "python",
   "name": "python3"
  },
  "language_info": {
   "codemirror_mode": {
    "name": "ipython",
    "version": 3
   },
   "file_extension": ".py",
   "mimetype": "text/x-python",
   "name": "python",
   "nbconvert_exporter": "python",
   "pygments_lexer": "ipython3",
   "version": "3.8.3"
  }
 },
 "nbformat": 4,
 "nbformat_minor": 4
}
